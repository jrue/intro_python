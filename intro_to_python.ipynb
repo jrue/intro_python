{
 "cells": [
  {
   "cell_type": "markdown",
   "metadata": {},
   "source": [
    "## Introduction to Python \n",
    "\n",
    "Python is a programming language that can be used in innumerable ways.\n",
    "\n",
    "Some of the ways that Python applies to journalism.\n",
    "\n",
    "* Analyze and visualize data\n",
    "* Scrape websites and PDFs\n",
    "* Build and manage databases \n",
    "\n",
    "Some of the advanatages of Python over using Google Sheets include versatility (it's a full-blown programming language) reproducibility and sharability. Once you create a notebook, it's easy to go back to track each step of your work.\n",
    "\n",
    "### Start with variables\n",
    "\n",
    "We will start with learning about variables. A variable is like a container. You can assign a value. \n",
    "\n",
    "<img src=\"https://multimedia.report/images/classes/coding/assignment.gif\" alt=\"animation showing how variables work\" style=\"margin-left:0\">\n",
    "\n",
    "*Whatever is on the right side, will be stuffed into the left side.*\n",
    "\n",
    "Let's try it. Let's stuff the number 7 into x. Put your cursor in the box below, hold the shift key down, and press return."
   ]
  },
  {
   "cell_type": "code",
   "execution_count": null,
   "metadata": {},
   "outputs": [],
   "source": [
    "x = 7"
   ]
  },
  {
   "cell_type": "markdown",
   "metadata": {},
   "source": [
    "Next, let's see the output. We'll type just \"x\" by itself and Python will output its value. In each of these boxes, put your cursor in the box, hold down the shift key on your keyboard, and press return."
   ]
  },
  {
   "cell_type": "code",
   "execution_count": null,
   "metadata": {},
   "outputs": [],
   "source": [
    "x"
   ]
  },
  {
   "cell_type": "markdown",
   "metadata": {},
   "source": [
    "One shortcut, we can combine both statements into one, so that when we set a variable, we can immediately see its output. Let's try:"
   ]
  },
  {
   "cell_type": "code",
   "execution_count": null,
   "metadata": {},
   "outputs": [],
   "source": [
    "k = 5\n",
    "k"
   ]
  },
  {
   "cell_type": "markdown",
   "metadata": {},
   "source": [
    "This is common in the tasks we'll do later. We'll list a variable by itself immediately after we set it so that it will show us the output.\n",
    "\n",
    "Here is something else we can do, we can replace the value in variables. When we do, it takes its most recent assignment."
   ]
  },
  {
   "cell_type": "code",
   "execution_count": null,
   "metadata": {},
   "outputs": [],
   "source": [
    "j = 3\n",
    "j = 5\n",
    "j"
   ]
  },
  {
   "cell_type": "markdown",
   "metadata": {},
   "source": [
    "Notice how j is equal to 5 and not three. We replaced its value by assigning a new value.\n",
    "\n",
    "By the way, how is that x doing?"
   ]
  },
  {
   "cell_type": "code",
   "execution_count": null,
   "metadata": {},
   "outputs": [],
   "source": [
    "x"
   ]
  },
  {
   "cell_type": "markdown",
   "metadata": {},
   "source": [
    "Yes, it's still 7. So variables will carry on from other cells. Once we run the cell (box) it's set. Go back up to the first cell we ran (where we set it to 7) and change the value to 10 and run it again. Then come back here and run the cell below."
   ]
  },
  {
   "cell_type": "code",
   "execution_count": null,
   "metadata": {},
   "outputs": [],
   "source": [
    "x"
   ]
  },
  {
   "cell_type": "markdown",
   "metadata": {},
   "source": [
    "So, the order of operations matters. The order in which we run each Python line of code makes a difference. Notice those numbers beside each cell? That describes the order we ran each cell so we can keep track of what was done. \n",
    "\n",
    "Next, let's see how we can assign variables to other variables."
   ]
  },
  {
   "cell_type": "code",
   "execution_count": null,
   "metadata": {},
   "outputs": [],
   "source": [
    "x = 3\n",
    "y = x\n",
    "y"
   ]
  },
  {
   "cell_type": "markdown",
   "metadata": {},
   "source": [
    "Note how we assigned 3 to x, then we assigned the *value* of x to y. Why didn't the output simply say \"y\"? Because that's a different datatype. That's a string. Let's try it one more time."
   ]
  },
  {
   "cell_type": "code",
   "execution_count": null,
   "metadata": {},
   "outputs": [],
   "source": [
    "x = 3\n",
    "y = \"x\"\n",
    "y"
   ]
  },
  {
   "cell_type": "markdown",
   "metadata": {},
   "source": [
    "Ah hah! We assigned text string \"x\" to y, so y now stores the value of a piece of text. If we left the quotes off, it would assign the *value* of x rather than the string \"x\". Important distinction.\n",
    "\n",
    "Here are some other things we can do:"
   ]
  },
  {
   "cell_type": "code",
   "execution_count": null,
   "metadata": {},
   "outputs": [],
   "source": [
    "x = 2 + 2\n",
    "x"
   ]
  },
  {
   "cell_type": "code",
   "execution_count": null,
   "metadata": {},
   "outputs": [],
   "source": [
    "x = 5\n",
    "y = 1\n",
    "j = x + y\n",
    "j"
   ]
  },
  {
   "cell_type": "markdown",
   "metadata": {},
   "source": [
    "Let's try something different. What would happen if we added two strings together? Any guesses? Guess what might happen before we run the code below. The run it to see if you were right."
   ]
  },
  {
   "cell_type": "code",
   "execution_count": null,
   "metadata": {},
   "outputs": [],
   "source": [
    "firstname = \"Jeremy\"\n",
    "lastname  = \"Rue\"\n",
    "fullname  = firstname + lastname\n",
    "fullname"
   ]
  },
  {
   "cell_type": "markdown",
   "metadata": {},
   "source": [
    "### Lists\n",
    "\n",
    "There is a special type of variable in Python called lists. It's pretty cool. It gives us the ability to store multiple values in a single variable. Let's take a look:"
   ]
  },
  {
   "cell_type": "code",
   "execution_count": null,
   "metadata": {},
   "outputs": [],
   "source": [
    "months = [\"January\", \"February\", \"March\", \"April\", \"May\", \"June\", \"July\", \"August\", \"September\", \"October\", \"November\"]\n",
    "months"
   ]
  },
  {
   "cell_type": "markdown",
   "metadata": {},
   "source": [
    "Notice the output simply lists the values in the list. How do we recall a value? We use something called the **zero index**, which starts with zero as the first value, and so on?\n",
    "\n",
    "Take a guess, what will the following output?"
   ]
  },
  {
   "cell_type": "code",
   "execution_count": null,
   "metadata": {},
   "outputs": [],
   "source": [
    "months[0]"
   ]
  },
  {
   "cell_type": "markdown",
   "metadata": {},
   "source": [
    "What about this one?"
   ]
  },
  {
   "cell_type": "code",
   "execution_count": null,
   "metadata": {},
   "outputs": [],
   "source": [
    "months[1]"
   ]
  },
  {
   "cell_type": "markdown",
   "metadata": {},
   "source": [
    "OK, one more time... before running this code, take a guess, what will this output?"
   ]
  },
  {
   "cell_type": "code",
   "execution_count": null,
   "metadata": {},
   "outputs": [],
   "source": [
    "months[5]"
   ]
  },
  {
   "cell_type": "markdown",
   "metadata": {},
   "source": [
    "There are also special commands called \"methods\" we can run on lists. \n",
    "\n",
    "We can ask this list how long it is:"
   ]
  },
  {
   "cell_type": "code",
   "execution_count": null,
   "metadata": {},
   "outputs": [],
   "source": [
    "len(months)"
   ]
  },
  {
   "cell_type": "markdown",
   "metadata": {},
   "source": [
    "We can also append (add to) the list, even though we already assigned the values."
   ]
  },
  {
   "cell_type": "code",
   "execution_count": null,
   "metadata": {},
   "outputs": [],
   "source": [
    "months.append('December')\n",
    "len(months)"
   ]
  },
  {
   "cell_type": "markdown",
   "metadata": {},
   "source": [
    "We can also extract a portion, or slice, of this list using special notation."
   ]
  },
  {
   "cell_type": "code",
   "execution_count": null,
   "metadata": {},
   "outputs": [],
   "source": [
    "months[0:3]"
   ]
  },
  {
   "cell_type": "markdown",
   "metadata": {},
   "source": [
    "Note that the zero referred to the first item, but the second number referrs to the item before the index. Here is a nifty guide to refer to if you ever forget:\n",
    "\n",
    "```python\n",
    "a[start:stop] # items start until stop - 1\n",
    "a[start:]     # items start then go through the rest of the list\n",
    "a[:stop]      # items from the beginning until stop - 1\n",
    "a[:]          # a copy of the whole list\n",
    "\n",
    "a[start:stop:step] # start, but do not past stop, by step\n",
    "```\n",
    "\n",
    "Try a few of these from above yourself in the next cell:"
   ]
  },
  {
   "cell_type": "code",
   "execution_count": null,
   "metadata": {},
   "outputs": [],
   "source": [
    "months[]"
   ]
  },
  {
   "cell_type": "markdown",
   "metadata": {},
   "source": [
    "### Dictionaries\n",
    "\n",
    "The next datatype is dictionaries. Dictionaries are similar to JSON, which we'll go over later in class. \n",
    "\n",
    "The important thing to know about dictionaries is they store values by properties called \"keys\" (similar to CSS)."
   ]
  },
  {
   "cell_type": "code",
   "execution_count": null,
   "metadata": {},
   "outputs": [],
   "source": [
    "# Curly braces! Not brackets \n",
    "\n",
    "my_dict = { \n",
    "    \"city\": \"Berkeley\", \n",
    "    \"state\": \"California\", \n",
    "    \"county\": \"Alameda\", \n",
    "    \"zip\": 94720\n",
    "}\n",
    "\n",
    "my_dict"
   ]
  },
  {
   "cell_type": "markdown",
   "metadata": {},
   "source": [
    "We can recall any value by its keys using notation similar to lists, but putting the property string instead of an index."
   ]
  },
  {
   "cell_type": "code",
   "execution_count": null,
   "metadata": {},
   "outputs": [],
   "source": [
    "my_dict[\"city\"]"
   ]
  },
  {
   "cell_type": "code",
   "execution_count": null,
   "metadata": {},
   "outputs": [],
   "source": [
    "my_dict[\"zip\"]"
   ]
  },
  {
   "cell_type": "code",
   "execution_count": null,
   "metadata": {},
   "outputs": [],
   "source": [
    "my_dict.keys()"
   ]
  },
  {
   "cell_type": "code",
   "execution_count": null,
   "metadata": {},
   "outputs": [],
   "source": [
    "my_dict.values()"
   ]
  },
  {
   "cell_type": "markdown",
   "metadata": {},
   "source": [
    "## Importing Libraries\n",
    "\n",
    "Okay, now that we have all of that out of the way, we will do some data stuff. The first thing we need to do is import some libraries. We will use the popular Pandas library, and also import Seaborn for doing some basic data visaulizations. These libraries were installed prior to this lesson, so you don't have to install them. But if you were doing this on your own, you'd need to install them before running the code below."
   ]
  },
  {
   "cell_type": "code",
   "execution_count": null,
   "metadata": {},
   "outputs": [],
   "source": [
    "import numpy as np\n",
    "import pandas as pd\n",
    "import seaborn as sns\n",
    "import matplotlib.pyplot as plt"
   ]
  },
  {
   "cell_type": "markdown",
   "metadata": {},
   "source": [
    "Now that we've imported our libraries, let's bring in our .csv file using pandas. Notice above, our Pandas library was stored in a variable called \"pd\" (short for Pandas). Technically, we could have specified anything for our Pandas library, but pd is the standard convention, so let's stick with that."
   ]
  },
  {
   "cell_type": "code",
   "execution_count": null,
   "metadata": {},
   "outputs": [],
   "source": [
    "pulitzers = pd.read_csv(\"pulitzer-circulation-data.csv\", encoding='utf-8')"
   ]
  },
  {
   "cell_type": "markdown",
   "metadata": {},
   "source": [
    "Now, let's take a look and see what it looks like. We can run the command `head()` on the variable to see the first five rows of data."
   ]
  },
  {
   "cell_type": "code",
   "execution_count": null,
   "metadata": {},
   "outputs": [],
   "source": [
    "pulitzers.head()"
   ]
  },
  {
   "cell_type": "markdown",
   "metadata": {},
   "source": [
    "We can also put a number in the parenthesis to specify a specific number of rows to show."
   ]
  },
  {
   "cell_type": "code",
   "execution_count": null,
   "metadata": {},
   "outputs": [],
   "source": [
    "pulitzers.head(10)"
   ]
  },
  {
   "cell_type": "markdown",
   "metadata": {},
   "source": [
    "### Interview Functions\n",
    "\n",
    "Let's interview our data. Here are some functions we can run. The \"df\" is a placeholder for your data. It's stands for \"data frame\" which is what we call this datatype when using Pandas.\n",
    "\n",
    "`df.head()` - get the first 5 rows of your data (or specify number)\n",
    "\n",
    "`df.tail()` - get the last 5 rows of your data (or specify number)\n",
    "\n",
    "`df.sample(5)` - get a random sampling of 5 rows of your data\n",
    "\n",
    "`df.columns` - get a list of all the columns\n",
    "\n",
    "`df.info()` - get number of rows with data and data type for each column \n",
    "\n",
    "`df.shape` - get the number of rows and columns\n",
    "\n",
    "`df.describe()` - get a variety of statistical calculations for all values in each column\n",
    "\n",
    "Let's take these functions for a spin:"
   ]
  },
  {
   "cell_type": "code",
   "execution_count": null,
   "metadata": {},
   "outputs": [],
   "source": [
    "#also try pulitzers.columns[2:5]\n",
    "pulitzers.columns"
   ]
  },
  {
   "cell_type": "code",
   "execution_count": null,
   "metadata": {},
   "outputs": [],
   "source": [
    "#describes the number of rows and columns\n",
    "pulitzers.shape"
   ]
  },
  {
   "cell_type": "code",
   "execution_count": null,
   "metadata": {},
   "outputs": [],
   "source": [
    "pulitzers.describe()"
   ]
  },
  {
   "cell_type": "markdown",
   "metadata": {},
   "source": [
    "Note that we can also use dot-notation to call any column we want."
   ]
  },
  {
   "cell_type": "code",
   "execution_count": null,
   "metadata": {},
   "outputs": [],
   "source": [
    "pulitzers.Newspaper"
   ]
  },
  {
   "cell_type": "code",
   "execution_count": null,
   "metadata": {},
   "outputs": [],
   "source": [
    "pulitzers[\"Daily Circulation, 2013\"]"
   ]
  },
  {
   "cell_type": "code",
   "execution_count": null,
   "metadata": {},
   "outputs": [],
   "source": [
    "pulitzers.info()"
   ]
  },
  {
   "cell_type": "code",
   "execution_count": null,
   "metadata": {},
   "outputs": [],
   "source": [
    "sns.lmplot(\n",
    "    x=\"Pulitzer Prize Winners and Finalists, 1990-2014\", \n",
    "    y=\"Change in Daily Circulation, 2004-2013 in Percent\", \n",
    "    data=pulitzers)"
   ]
  },
  {
   "cell_type": "markdown",
   "metadata": {},
   "source": [
    "### Restaurant Inspections\n",
    "\n",
    "In this next section, let's look at a larger dataset. This is restaurant inspections for all restaurants in Alameda County as of Aug 1, 2020. It has 55,000 rows, which is difficult to open in spreadsheet software. "
   ]
  },
  {
   "cell_type": "code",
   "execution_count": null,
   "metadata": {},
   "outputs": [],
   "source": [
    "inspections = pd.read_csv(\"Restaurant_Inspections.csv\")\n",
    "inspections.head()"
   ]
  },
  {
   "cell_type": "markdown",
   "metadata": {},
   "source": [
    "We can look at unique values for any column of data. Let's look at the Grade column to see what grades were given. (They correspond to colors)"
   ]
  },
  {
   "cell_type": "code",
   "execution_count": null,
   "metadata": {},
   "outputs": [],
   "source": [
    "inspections.Grade.unique()"
   ]
  },
  {
   "cell_type": "code",
   "execution_count": null,
   "metadata": {},
   "outputs": [],
   "source": [
    "inspections.groupby(\"Grade\").Facility_ID.count()"
   ]
  },
  {
   "cell_type": "markdown",
   "metadata": {},
   "source": [
    "We can search by grade or by a name of a specific restaurant."
   ]
  },
  {
   "cell_type": "code",
   "execution_count": null,
   "metadata": {},
   "outputs": [],
   "source": [
    "inspections[inspections[\"Grade\"] == \"R\"]"
   ]
  },
  {
   "cell_type": "code",
   "execution_count": null,
   "metadata": {},
   "outputs": [],
   "source": [
    "reds = inspections[inspections[\"Grade\"] == \"R\"]\n",
    "reds.groupby(\"City\").count()"
   ]
  },
  {
   "cell_type": "code",
   "execution_count": null,
   "metadata": {},
   "outputs": [],
   "source": [
    "inspections[inspections[\"Facility_Name\"] == \"BLIND TIGER\"]"
   ]
  }
 ],
 "metadata": {
  "kernelspec": {
   "display_name": "Python 3",
   "language": "python",
   "name": "python3"
  },
  "language_info": {
   "codemirror_mode": {
    "name": "ipython",
    "version": 3
   },
   "file_extension": ".py",
   "mimetype": "text/x-python",
   "name": "python",
   "nbconvert_exporter": "python",
   "pygments_lexer": "ipython3",
   "version": "3.8.2"
  }
 },
 "nbformat": 4,
 "nbformat_minor": 4
}
